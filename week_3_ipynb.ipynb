{
  "nbformat": 4,
  "nbformat_minor": 0,
  "metadata": {
    "colab": {
      "name": "week 3_ipynb",
      "provenance": []
    },
    "kernelspec": {
      "name": "python3",
      "display_name": "Python 3"
    },
    "language_info": {
      "name": "python"
    }
  },
  "cells": [
    {
      "cell_type": "code",
      "execution_count": 1,
      "metadata": {
        "colab": {
          "base_uri": "https://localhost:8080/"
        },
        "id": "6XgQOoNo65zd",
        "outputId": "91647d61-91fc-4538-9b10-c980eb757223"
      },
      "outputs": [
        {
          "output_type": "stream",
          "name": "stdout",
          "text": [
            "[]\n",
            "[1, 2, 3, 4, 5]\n",
            "[1, 'simran', 'Apple', 1.1]\n",
            "Apple\n",
            "1.1\n",
            "4\n"
          ]
        }
      ],
      "source": [
        "list_a = [] \n",
        "print(list_a)                       #empty list\n",
        "list_b = [1,2,3,4,5]  \n",
        "print(list_b)                       #integer\n",
        "list_c = [1, \"simran\", \"Apple\", 1.1] \n",
        "print(list_c)                       #mixed datatypes\n",
        "print(list_c[2])\n",
        "print(list_c[3])\n",
        "print(list_b[3])"
      ]
    },
    {
      "cell_type": "code",
      "source": [
        "#Nested List and Negative Indexing\n",
        "\n",
        "ThisList = [\"bat\",[1,2,4], \"News\"]\n",
        "print(ThisList)\n",
        "print(ThisList[1][2])\n",
        "print(ThisList[0][1])\n",
        "print(ThisList[0][2])\n",
        "print(ThisList[-1])           #Negative Indexing\n",
        "print(ThisList[-2])\n",
        "ThisList[1] = [\"Ball\"]        #Changing the items in list\n",
        "print(ThisList)"
      ],
      "metadata": {
        "colab": {
          "base_uri": "https://localhost:8080/"
        },
        "id": "V9lh3sDZFWYW",
        "outputId": "8ee15636-7541-4c50-b7af-53be66608bab"
      },
      "execution_count": 8,
      "outputs": [
        {
          "output_type": "stream",
          "name": "stdout",
          "text": [
            "['bat', [1, 2, 4], 'News']\n",
            "4\n",
            "a\n",
            "t\n",
            "News\n",
            "[1, 2, 4]\n",
            "['bat', ['Ball'], 'News']\n"
          ]
        }
      ]
    },
    {
      "cell_type": "code",
      "source": [
        "# List slicing in Python\n",
        "\n",
        "my_list = ['p','r','o','g','r','a','m','e','r']\n",
        "\n",
        "# elements from index 2 to index 4\n",
        "print(my_list[2:5])\n",
        "\n",
        "# elements from index 5 to end\n",
        "print(my_list[5:])\n",
        "\n",
        "# elements beginning to end\n",
        "print(my_list[:])"
      ],
      "metadata": {
        "colab": {
          "base_uri": "https://localhost:8080/"
        },
        "id": "knCWFNRSEiQq",
        "outputId": "358d0b2e-cd88-4659-b275-8d579ada0213"
      },
      "execution_count": 2,
      "outputs": [
        {
          "output_type": "stream",
          "name": "stdout",
          "text": [
            "['o', 'g', 'r']\n",
            "['a', 'm', 'e', 'r']\n",
            "['p', 'r', 'o', 'g', 'r', 'a', 'm', 'e', 'r']\n"
          ]
        }
      ]
    },
    {
      "cell_type": "code",
      "source": [
        "tuple_1 = ()     #Empty tuple\n",
        "print(tuple_1)\n",
        "tuple_2 = (9,8,7,6)   #integers\n",
        "print(tuple_2)\n",
        "tuple_3 = (5,7,\"Laptop\", 13.19)  #Mixed datatypes\n",
        "print(tuple_3)\n",
        "tuple_4 = (2,4,5,(\"bat\",\"ball\"),[3,3])   #nested tuples\n",
        "print(tuple_4)\n",
        "\n",
        "print(tuple_2[3])      #indexing\n",
        "print(tuple_2[-2])     #negative indexing\n",
        "print(tuple_3[2][3])   #nested indexing"
      ],
      "metadata": {
        "colab": {
          "base_uri": "https://localhost:8080/"
        },
        "id": "nyusxemJEqtO",
        "outputId": "a931ab47-cab3-4dd4-c7c1-b8b5a7939694"
      },
      "execution_count": 3,
      "outputs": [
        {
          "output_type": "stream",
          "name": "stdout",
          "text": [
            "()\n",
            "(9, 8, 7, 6)\n",
            "(5, 7, 'Laptop', 13.19)\n",
            "(2, 4, 5, ('bat', 'ball'), [3, 3])\n",
            "6\n",
            "7\n",
            "t\n"
          ]
        }
      ]
    },
    {
      "cell_type": "code",
      "source": [
        "# changing tuple values\n",
        "my_tuple = (2,5,8,9,1)\n",
        "print(my_tuple)\n",
        "\n",
        "my_tuple = ('c','e','l','e','b','a','l')\n",
        "print(my_tuple)"
      ],
      "metadata": {
        "colab": {
          "base_uri": "https://localhost:8080/"
        },
        "id": "nN3lKsOUEx7i",
        "outputId": "733ff5b7-faca-4334-feb4-6721eb670e4f"
      },
      "execution_count": 4,
      "outputs": [
        {
          "output_type": "stream",
          "name": "stdout",
          "text": [
            "(2, 5, 8, 9, 1)\n",
            "('c', 'e', 'l', 'e', 'b', 'a', 'l')\n"
          ]
        }
      ]
    },
    {
      "cell_type": "code",
      "source": [
        "#String in python\n",
        "\n",
        "my_str = \"Sanjivani\"   #datatype string\n",
        "print(type(my_str))\n",
        "\n",
        "my_str = 'Sanjivani'      #single quotes\n",
        "print(my_str)\n",
        "\n",
        "my_str = \"Sanjivani\"      #double quotes\n",
        "print(my_str)\n",
        "\n",
        "my_str = '''Sanjivani'''    #Tripple quotes\n",
        "print(my_str)\n",
        "\n",
        "my_str = \"\"\" Happy Learning Journey!!!     \n",
        "                        with Celebal!!!\"\"\"  #multiple line strings\n",
        "print(my_str)"
      ],
      "metadata": {
        "colab": {
          "base_uri": "https://localhost:8080/"
        },
        "id": "mbBFiU10E72g",
        "outputId": "0e7d954d-308e-44c6-f9c4-14d35a5036b5"
      },
      "execution_count": 5,
      "outputs": [
        {
          "output_type": "stream",
          "name": "stdout",
          "text": [
            "<class 'str'>\n",
            "Sanjivani\n",
            "Sanjivani\n",
            "Sanjivani\n",
            " Happy Learning Journey!!!     \n",
            "                        with Celebal!!!\n"
          ]
        }
      ]
    },
    {
      "cell_type": "code",
      "source": [
        "# creating empty set\n",
        "s = set()\n",
        "print(type(s))"
      ],
      "metadata": {
        "colab": {
          "base_uri": "https://localhost:8080/"
        },
        "id": "0bdR6bTYFKFP",
        "outputId": "eae90996-3e2c-4b74-8b2d-c9567692b971"
      },
      "execution_count": 6,
      "outputs": [
        {
          "output_type": "stream",
          "name": "stdout",
          "text": [
            "<class 'set'>\n"
          ]
        }
      ]
    },
    {
      "cell_type": "code",
      "source": [
        "# empty dictionary\n",
        "my_dict = {}\n",
        "print(type(my_dict))"
      ],
      "metadata": {
        "colab": {
          "base_uri": "https://localhost:8080/"
        },
        "id": "crUBJiUgGRdP",
        "outputId": "920648d8-4241-4230-d5b8-4d367a990128"
      },
      "execution_count": 12,
      "outputs": [
        {
          "output_type": "stream",
          "name": "stdout",
          "text": [
            "<class 'dict'>\n"
          ]
        }
      ]
    },
    {
      "cell_type": "code",
      "source": [
        "# set with nested values\n",
        "my_set = {1,3,5,'simran', 'harsh', 3.4, 5.9}\n",
        "print(my_set)\n",
        "\n",
        "#add elements to set\n",
        "my_set.add(12)\n",
        "for i in my_set:\n",
        "  print(i)\n",
        "\n",
        "#update set\n",
        "my_set.update([22,'gayatri'])\n",
        "print(my_set)\n",
        "\n",
        "#delete element from set\n",
        "my_set.discard(3)\n",
        "my_set.remove('harsh')\n",
        "print(my_set)"
      ],
      "metadata": {
        "colab": {
          "base_uri": "https://localhost:8080/"
        },
        "id": "OFafv31YFi9t",
        "outputId": "e88a6fa2-be13-49a7-89b3-de2adc95e87d"
      },
      "execution_count": 9,
      "outputs": [
        {
          "output_type": "stream",
          "name": "stdout",
          "text": [
            "{1, 3, 3.4, 5, 5.9, 'harsh', 'simran'}\n",
            "1\n",
            "3\n",
            "3.4\n",
            "5\n",
            "5.9\n",
            "12\n",
            "harsh\n",
            "simran\n",
            "{1, 3, 3.4, 5, 5.9, 12, 'harsh', 'simran', 22, 'gayatri'}\n",
            "{1, 3.4, 5, 5.9, 12, 'simran', 22, 'gayatri'}\n"
          ]
        }
      ]
    },
    {
      "cell_type": "code",
      "source": [
        "#Accessing characters of string in python\n",
        "\n",
        "my_str = \"Javascript\"\n",
        "print(\"my_str = \", my_str)\n",
        "\n",
        "print(\"my_str[1] =\", my_str[1])\n",
        "print(\"my_str[2:5] =\", my_str[2:5])\n",
        "print(\"my_str[4:8] =\", my_str[4:8])\n",
        "my_str = \"JavaDeveloper\"\n",
        "print(my_str)      #Reassigned the string"
      ],
      "metadata": {
        "colab": {
          "base_uri": "https://localhost:8080/"
        },
        "id": "jLv6RQlPF0gs",
        "outputId": "e2ac5681-7492-4db3-906b-5db1189252fe"
      },
      "execution_count": 10,
      "outputs": [
        {
          "output_type": "stream",
          "name": "stdout",
          "text": [
            "my_str =  Javascript\n",
            "my_str[1] = a\n",
            "my_str[2:5] = vas\n",
            "my_str[4:8] = scri\n",
            "JavaDeveloper\n"
          ]
        }
      ]
    },
    {
      "cell_type": "code",
      "source": [
        "# dictionary with integer keys\n",
        "my_dict = {1: 'simran', 2: 'Python'}\n",
        "print(my_dict)\n",
        "\n",
        "# dictionary with mixed keys\n",
        "my_dict = {'name': 'Sanjivani', 1: [2, 4, 3]}\n",
        "print(my_dict)\n",
        "\n",
        "# using dict()\n",
        "my_dict = dict({1:'ECE', 2:'IT'})\n",
        "print(my_dict)\n",
        "\n",
        "# from sequence having each item as a pair\n",
        "my_dict = dict([('name','sanjivani'), (2,'COEP')])\n",
        "print(my_dict)\n",
        "\n",
        "#access the values from dictionary\n",
        "print(my_dict['name'])\n",
        "print(my_dict.get(2))"
      ],
      "metadata": {
        "colab": {
          "base_uri": "https://localhost:8080/"
        },
        "id": "8KfcffwWF9dE",
        "outputId": "38134ba7-0e42-4565-f6c7-a0e575c3f674"
      },
      "execution_count": 11,
      "outputs": [
        {
          "output_type": "stream",
          "name": "stdout",
          "text": [
            "{1: 'simran', 2: 'Python'}\n",
            "{'name': 'Sanjivani', 1: [2, 4, 3]}\n",
            "{1: 'ECE', 2: 'IT'}\n",
            "{'name': 'sanjivani', 2: 'COEP'}\n",
            "sanjivani\n",
            "COEP\n"
          ]
        }
      ]
    },
    {
      "cell_type": "code",
      "source": [
        "#Membership Operators\n",
        "\n",
        "# In Operator\n",
        "x = 5\n",
        "if (type(x) is int):\n",
        "    print(\"true\")\n",
        "else:\n",
        "    print(\"false\")\n",
        "\n",
        "str= \"Celebal\"\n",
        "print ('le' in str)\n",
        "print ('lcb' in str)\n",
        "\n",
        "#Not In Operator\n",
        "x = 5.2\n",
        "if (type(x) is not int):\n",
        "    print(\"true\")\n",
        "else:\n",
        "    print(\"false\") \n",
        "    \n",
        "str1= \"Sanjivani\"\n",
        "print('sanjivani' not in str1)\n",
        "print('celebal' not in str1)"
      ],
      "metadata": {
        "colab": {
          "base_uri": "https://localhost:8080/"
        },
        "id": "7jx77ks3GaGV",
        "outputId": "09e92700-8242-4123-93f2-6ebf701ca45c"
      },
      "execution_count": 13,
      "outputs": [
        {
          "output_type": "stream",
          "name": "stdout",
          "text": [
            "true\n",
            "True\n",
            "False\n",
            "true\n",
            "True\n",
            "True\n"
          ]
        }
      ]
    }
  ]
}